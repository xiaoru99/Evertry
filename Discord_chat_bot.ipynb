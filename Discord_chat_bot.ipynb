{
  "nbformat": 4,
  "nbformat_minor": 0,
  "metadata": {
    "colab": {
      "name": "Discord_chat_bot.ipynb",
      "provenance": [],
      "collapsed_sections": [],
      "include_colab_link": true
    },
    "kernelspec": {
      "name": "python3",
      "display_name": "Python 3"
    },
    "language_info": {
      "name": "python"
    }
  },
  "cells": [
    {
      "cell_type": "markdown",
      "metadata": {
        "id": "view-in-github",
        "colab_type": "text"
      },
      "source": [
        "<a href=\"https://colab.research.google.com/github/xiaoru99/Evertry/blob/main/Discord_chat_bot.ipynb\" target=\"_parent\"><img src=\"https://colab.research.google.com/assets/colab-badge.svg\" alt=\"Open In Colab\"/></a>"
      ]
    },
    {
      "cell_type": "code",
      "execution_count": null,
      "metadata": {
        "id": "_7s4WsVY4U3D"
      },
      "outputs": [],
      "source": [
        "import requests\n",
        "import json\n",
        "import random\n",
        "import time\n",
        "\n",
        "\n",
        "def get_context():\n",
        "    context_list = [\n",
        "        \"GM\",\n",
        "        \"GN\",\n",
        "        \"Pak\",\n",
        "        \"Meta\",\n",
        "        \"Avyc\",\n",
        "        \"well done\",\n",
        "        \"great\",\n",
        "        \"good\",\n",
        "        \"ture\",\n",
        "        \"interesting\",\n",
        "        \"thanks\",\n",
        "    ]\n",
        "    text = random.choice(context_list)\n",
        "    return text\n",
        "\n",
        "\n",
        "def chat(chanel_list,authorization_list):\n",
        "    for authorization in authorization_list:\n",
        "        header = {\n",
        "            \"Authorization\": authorization,\n",
        "            \"Content-Type\": \"application/json\",\n",
        "            \"User-Agent\": \"Mozilla/5.0 (Windows NT 10.0; Win64; x64) AppleWebKit/537.36 (KHTML, like Gecko) Chrome/94.0.4606.61 Safari/537.36\",\n",
        "        }\n",
        "        for chanel_id in chanel_list:\n",
        "            msg = {\n",
        "                \"content\": get_context(),\n",
        "                \"nonce\": \"82329451214{}33232234\".format(random.randrange(0, 1000)),\n",
        "                \"tts\": False,\n",
        "            }\n",
        "            url = \"https://discord.com/api/v9/channels/{}/messages\".format(chanel_id)\n",
        "            try:\n",
        "                res = requests.post(url=url, headers=header, data=json.dumps(msg))\n",
        "                print(res.content)\n",
        "            except:\n",
        "                pass\n",
        "            continue\n",
        "        time.sleep(random.randrange(1, 3))\n",
        "\n",
        "\n",
        "if __name__ == \"__main__\":\n",
        "    chanel_list = [\"put your chanel id here\"]\n",
        "    authorization_list = [\"put your authorization here\"]\n",
        "    while True:\n",
        "        try:\n",
        "            chat(chanel_list,authorization_list)\n",
        "            sleeptime = random.randrange(10, 30)\n",
        "            time.sleep(sleeptime)\n",
        "        except:\n",
        "            break"
      ]
    }
  ]
}